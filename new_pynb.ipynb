{
  "nbformat": 4,
  "nbformat_minor": 0,
  "metadata": {
    "colab": {
      "name": "new.pynb",
      "provenance": [],
      "collapsed_sections": []
    },
    "kernelspec": {
      "name": "python3",
      "display_name": "Python 3"
    },
    "language_info": {
      "name": "python"
    }
  },
  "cells": [
    {
      "cell_type": "markdown",
      "metadata": {
        "id": "qIx0N5Ziq4-H"
      },
      "source": [
        ""
      ]
    },
    {
      "cell_type": "code",
      "metadata": {
        "id": "H8N_VutwOpN7"
      },
      "source": [
        "import numpy as np\n",
        "import math\n"
      ],
      "execution_count": null,
      "outputs": []
    },
    {
      "cell_type": "code",
      "metadata": {
        "id": "0pxwsqgSPB19"
      },
      "source": [
        "x=float(input(\"Enter the sensor value:\"))\n",
        "r=abs((x*(x-1))/2)\n",
        "h = (r)*0.1592\n",
        "e= math.exp((-x/2)**2)\n",
        "a=e+3.14\n",
        "if a > 5.4488982849458294e+265:\n",
        "  print(\"Pump Predicted status=0\")\n",
        "elif a<5.4488982849458294e+265:\n",
        "  print(\"Pump predicted status=1\")\n",
        "else :\n",
        "  print(\"error\")  \n",
        "\n",
        "# print(e)\n",
        "\n",
        "\n",
        " \n",
        "\n"
      ],
      "execution_count": null,
      "outputs": []
    },
    {
      "cell_type": "code",
      "metadata": {
        "id": "JP5L0y3yQPDS"
      },
      "source": [
        ""
      ],
      "execution_count": null,
      "outputs": []
    },
    {
      "cell_type": "code",
      "metadata": {
        "id": "bGa003PTPatI"
      },
      "source": [
        ""
      ],
      "execution_count": null,
      "outputs": []
    }
  ]
}